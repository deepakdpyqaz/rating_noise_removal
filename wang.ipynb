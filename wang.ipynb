{
 "cells": [
  {
   "cell_type": "code",
   "execution_count": 20,
   "metadata": {},
   "outputs": [],
   "source": [
    "import numpy as np\n",
    "import pandas as pd\n",
    "import skfuzzy as fuzz\n",
    "from surprise import reader\n",
    "from surprise.prediction_algorithms import SlopeOne\n",
    "from surprise import Dataset\n",
    "import matplotlib.pyplot\n",
    "from sklearn.model_selection import train_test_split, StratifiedKFold\n",
    "from statistics import NormalDist"
   ]
  },
  {
   "cell_type": "code",
   "execution_count": 21,
   "metadata": {},
   "outputs": [],
   "source": [
    "df = pd.read_csv(\"train.csv\")"
   ]
  },
  {
   "cell_type": "code",
   "execution_count": 22,
   "metadata": {},
   "outputs": [
    {
     "data": {
      "text/html": [
       "<div>\n",
       "<style scoped>\n",
       "    .dataframe tbody tr th:only-of-type {\n",
       "        vertical-align: middle;\n",
       "    }\n",
       "\n",
       "    .dataframe tbody tr th {\n",
       "        vertical-align: top;\n",
       "    }\n",
       "\n",
       "    .dataframe thead th {\n",
       "        text-align: right;\n",
       "    }\n",
       "</style>\n",
       "<table border=\"1\" class=\"dataframe\">\n",
       "  <thead>\n",
       "    <tr style=\"text-align: right;\">\n",
       "      <th></th>\n",
       "      <th>user</th>\n",
       "      <th>item</th>\n",
       "      <th>rating</th>\n",
       "    </tr>\n",
       "  </thead>\n",
       "  <tbody>\n",
       "    <tr>\n",
       "      <th>0</th>\n",
       "      <td>877</td>\n",
       "      <td>381</td>\n",
       "      <td>4.0</td>\n",
       "    </tr>\n",
       "    <tr>\n",
       "      <th>1</th>\n",
       "      <td>877</td>\n",
       "      <td>451</td>\n",
       "      <td>4.0</td>\n",
       "    </tr>\n",
       "    <tr>\n",
       "      <th>2</th>\n",
       "      <td>877</td>\n",
       "      <td>557</td>\n",
       "      <td>4.0</td>\n",
       "    </tr>\n",
       "    <tr>\n",
       "      <th>3</th>\n",
       "      <td>877</td>\n",
       "      <td>692</td>\n",
       "      <td>4.0</td>\n",
       "    </tr>\n",
       "    <tr>\n",
       "      <th>4</th>\n",
       "      <td>877</td>\n",
       "      <td>56</td>\n",
       "      <td>5.0</td>\n",
       "    </tr>\n",
       "  </tbody>\n",
       "</table>\n",
       "</div>"
      ],
      "text/plain": [
       "   user  item  rating\n",
       "0   877   381     4.0\n",
       "1   877   451     4.0\n",
       "2   877   557     4.0\n",
       "3   877   692     4.0\n",
       "4   877    56     5.0"
      ]
     },
     "execution_count": 22,
     "metadata": {},
     "output_type": "execute_result"
    }
   ],
   "source": [
    "df.head()"
   ]
  },
  {
   "cell_type": "code",
   "execution_count": 23,
   "metadata": {},
   "outputs": [
    {
     "data": {
      "text/plain": [
       "(80000, 3)"
      ]
     },
     "execution_count": 23,
     "metadata": {},
     "output_type": "execute_result"
    }
   ],
   "source": [
    "df.shape"
   ]
  },
  {
   "cell_type": "code",
   "execution_count": 25,
   "metadata": {},
   "outputs": [],
   "source": [
    "# df.drop(\"timestamp\",axis=1,inplace=True)"
   ]
  },
  {
   "cell_type": "code",
   "execution_count": 26,
   "metadata": {},
   "outputs": [],
   "source": [
    "rating_low = NormalDist(mu=2, sigma=1)\n",
    "rating_high = NormalDist(mu=4, sigma=1)"
   ]
  },
  {
   "cell_type": "code",
   "execution_count": 27,
   "metadata": {},
   "outputs": [],
   "source": [
    "def fuzzify(rating):\n",
    "    low = 1-rating_low.cdf(rating)\n",
    "    high = rating_high.cdf(rating)\n",
    "    mid = 1-low-high\n",
    "    return low,mid,high"
   ]
  },
  {
   "cell_type": "code",
   "execution_count": 28,
   "metadata": {},
   "outputs": [],
   "source": [
    "\n",
    "profile = df.rating.apply(fuzzify)"
   ]
  },
  {
   "cell_type": "code",
   "execution_count": 29,
   "metadata": {},
   "outputs": [],
   "source": [
    "r_low = []\n",
    "r_mid = []\n",
    "r_high = []"
   ]
  },
  {
   "cell_type": "code",
   "execution_count": 30,
   "metadata": {},
   "outputs": [],
   "source": [
    "for prof in profile:\n",
    "    r_low.append(prof[0])\n",
    "    r_mid.append(prof[1])\n",
    "    r_high.append(prof[2])\n",
    "df[\"r_low\"] = r_low\n",
    "df[\"r_mid\"] = r_mid\n",
    "df[\"r_high\"] = r_high"
   ]
  },
  {
   "cell_type": "code",
   "execution_count": 31,
   "metadata": {},
   "outputs": [
    {
     "data": {
      "text/html": [
       "<div>\n",
       "<style scoped>\n",
       "    .dataframe tbody tr th:only-of-type {\n",
       "        vertical-align: middle;\n",
       "    }\n",
       "\n",
       "    .dataframe tbody tr th {\n",
       "        vertical-align: top;\n",
       "    }\n",
       "\n",
       "    .dataframe thead th {\n",
       "        text-align: right;\n",
       "    }\n",
       "</style>\n",
       "<table border=\"1\" class=\"dataframe\">\n",
       "  <thead>\n",
       "    <tr style=\"text-align: right;\">\n",
       "      <th></th>\n",
       "      <th>user</th>\n",
       "      <th>item</th>\n",
       "      <th>rating</th>\n",
       "      <th>r_low</th>\n",
       "      <th>r_mid</th>\n",
       "      <th>r_high</th>\n",
       "    </tr>\n",
       "  </thead>\n",
       "  <tbody>\n",
       "    <tr>\n",
       "      <th>0</th>\n",
       "      <td>877</td>\n",
       "      <td>381</td>\n",
       "      <td>4.0</td>\n",
       "      <td>0.02275</td>\n",
       "      <td>0.477250</td>\n",
       "      <td>0.500000</td>\n",
       "    </tr>\n",
       "    <tr>\n",
       "      <th>1</th>\n",
       "      <td>877</td>\n",
       "      <td>451</td>\n",
       "      <td>4.0</td>\n",
       "      <td>0.02275</td>\n",
       "      <td>0.477250</td>\n",
       "      <td>0.500000</td>\n",
       "    </tr>\n",
       "    <tr>\n",
       "      <th>2</th>\n",
       "      <td>877</td>\n",
       "      <td>557</td>\n",
       "      <td>4.0</td>\n",
       "      <td>0.02275</td>\n",
       "      <td>0.477250</td>\n",
       "      <td>0.500000</td>\n",
       "    </tr>\n",
       "    <tr>\n",
       "      <th>3</th>\n",
       "      <td>877</td>\n",
       "      <td>692</td>\n",
       "      <td>4.0</td>\n",
       "      <td>0.02275</td>\n",
       "      <td>0.477250</td>\n",
       "      <td>0.500000</td>\n",
       "    </tr>\n",
       "    <tr>\n",
       "      <th>4</th>\n",
       "      <td>877</td>\n",
       "      <td>56</td>\n",
       "      <td>5.0</td>\n",
       "      <td>0.00135</td>\n",
       "      <td>0.157305</td>\n",
       "      <td>0.841345</td>\n",
       "    </tr>\n",
       "  </tbody>\n",
       "</table>\n",
       "</div>"
      ],
      "text/plain": [
       "   user  item  rating    r_low     r_mid    r_high\n",
       "0   877   381     4.0  0.02275  0.477250  0.500000\n",
       "1   877   451     4.0  0.02275  0.477250  0.500000\n",
       "2   877   557     4.0  0.02275  0.477250  0.500000\n",
       "3   877   692     4.0  0.02275  0.477250  0.500000\n",
       "4   877    56     5.0  0.00135  0.157305  0.841345"
      ]
     },
     "execution_count": 31,
     "metadata": {},
     "output_type": "execute_result"
    }
   ],
   "source": [
    "df.head()"
   ]
  },
  {
   "cell_type": "code",
   "execution_count": 32,
   "metadata": {},
   "outputs": [],
   "source": [
    "df_user = df[[\"user\",\"r_low\",\"r_mid\",\"r_high\"]].groupby(\"user\").mean()"
   ]
  },
  {
   "cell_type": "code",
   "execution_count": 33,
   "metadata": {},
   "outputs": [],
   "source": [
    "df_item = df[[\"item\",\"r_low\",\"r_mid\",\"r_high\"]].groupby(\"item\").mean()"
   ]
  },
  {
   "cell_type": "code",
   "execution_count": 34,
   "metadata": {},
   "outputs": [],
   "source": [
    "rmin = df.rating.min()\n",
    "rmax = df.rating.max()\n",
    "a = rmin + round((rmax-rmin)/3)\n",
    "b = rmax - round((rmax-rmin)/3)"
   ]
  },
  {
   "cell_type": "code",
   "execution_count": 50,
   "metadata": {},
   "outputs": [],
   "source": [
    "def get_estimated_ratings(row):\n",
    "    user = row[\"user\"]\n",
    "    item = row[\"item\"]\n",
    "    rating = row[\"rating\"]\n",
    "    r_low = row[\"r_low\"]\n",
    "    r_mid = row[\"r_mid\"]\n",
    "    r_high = row[\"r_high\"]\n",
    "    user_row = df_user.loc[user]\n",
    "    u_low = user_row[\"r_low\"]\n",
    "    u_mid = user_row[\"r_mid\"]\n",
    "    u_high = user_row[\"r_high\"]\n",
    "    item_row = df_item.loc[item]\n",
    "    i_low = item_row[\"r_low\"]\n",
    "    i_mid = item_row[\"r_mid\"]\n",
    "    i_high = item_row[\"r_high\"]\n",
    "\n",
    "    n_low = u_low*i_low\n",
    "    n_mid = u_mid*i_mid\n",
    "    n_high = u_high*i_high\n",
    "    total = n_low+n_mid+n_high\n",
    "    n_low = n_low/total\n",
    "    n_mid = n_mid/total\n",
    "    n_high = n_high/total\n",
    "\n",
    "    r_v = np.array([r_low,r_mid,r_high])\n",
    "    n_v = np.array([n_low,n_mid,n_high])\n",
    "    dist = np.linalg.norm(r_v-n_v)\n",
    "    s = 1/(1+dist)\n",
    "    delta = 0.6\n",
    "\n",
    "    if s<delta:\n",
    "        if n_low == max(n_low,n_mid,n_high):\n",
    "            return a\n",
    "        elif n_mid == max(n_low,n_mid,n_high):\n",
    "            return (a+b)/2\n",
    "        else:\n",
    "            return b\n",
    "    else:\n",
    "        return rating"
   ]
  },
  {
   "cell_type": "code",
   "execution_count": 51,
   "metadata": {},
   "outputs": [],
   "source": [
    "df[\"corrected_rating\"] = df.apply(get_estimated_ratings,axis=1)"
   ]
  },
  {
   "cell_type": "code",
   "execution_count": 37,
   "metadata": {},
   "outputs": [
    {
     "data": {
      "text/html": [
       "<div>\n",
       "<style scoped>\n",
       "    .dataframe tbody tr th:only-of-type {\n",
       "        vertical-align: middle;\n",
       "    }\n",
       "\n",
       "    .dataframe tbody tr th {\n",
       "        vertical-align: top;\n",
       "    }\n",
       "\n",
       "    .dataframe thead th {\n",
       "        text-align: right;\n",
       "    }\n",
       "</style>\n",
       "<table border=\"1\" class=\"dataframe\">\n",
       "  <thead>\n",
       "    <tr style=\"text-align: right;\">\n",
       "      <th></th>\n",
       "      <th>user</th>\n",
       "      <th>item</th>\n",
       "      <th>rating</th>\n",
       "      <th>r_low</th>\n",
       "      <th>r_mid</th>\n",
       "      <th>r_high</th>\n",
       "      <th>corrected_rating</th>\n",
       "    </tr>\n",
       "  </thead>\n",
       "  <tbody>\n",
       "    <tr>\n",
       "      <th>0</th>\n",
       "      <td>877</td>\n",
       "      <td>381</td>\n",
       "      <td>4.0</td>\n",
       "      <td>0.02275</td>\n",
       "      <td>0.477250</td>\n",
       "      <td>0.500000</td>\n",
       "      <td>4.0</td>\n",
       "    </tr>\n",
       "    <tr>\n",
       "      <th>1</th>\n",
       "      <td>877</td>\n",
       "      <td>451</td>\n",
       "      <td>4.0</td>\n",
       "      <td>0.02275</td>\n",
       "      <td>0.477250</td>\n",
       "      <td>0.500000</td>\n",
       "      <td>4.0</td>\n",
       "    </tr>\n",
       "    <tr>\n",
       "      <th>2</th>\n",
       "      <td>877</td>\n",
       "      <td>557</td>\n",
       "      <td>4.0</td>\n",
       "      <td>0.02275</td>\n",
       "      <td>0.477250</td>\n",
       "      <td>0.500000</td>\n",
       "      <td>4.0</td>\n",
       "    </tr>\n",
       "    <tr>\n",
       "      <th>3</th>\n",
       "      <td>877</td>\n",
       "      <td>692</td>\n",
       "      <td>4.0</td>\n",
       "      <td>0.02275</td>\n",
       "      <td>0.477250</td>\n",
       "      <td>0.500000</td>\n",
       "      <td>4.0</td>\n",
       "    </tr>\n",
       "    <tr>\n",
       "      <th>4</th>\n",
       "      <td>877</td>\n",
       "      <td>56</td>\n",
       "      <td>5.0</td>\n",
       "      <td>0.00135</td>\n",
       "      <td>0.157305</td>\n",
       "      <td>0.841345</td>\n",
       "      <td>4.0</td>\n",
       "    </tr>\n",
       "  </tbody>\n",
       "</table>\n",
       "</div>"
      ],
      "text/plain": [
       "   user  item  rating    r_low     r_mid    r_high  corrected_rating\n",
       "0   877   381     4.0  0.02275  0.477250  0.500000               4.0\n",
       "1   877   451     4.0  0.02275  0.477250  0.500000               4.0\n",
       "2   877   557     4.0  0.02275  0.477250  0.500000               4.0\n",
       "3   877   692     4.0  0.02275  0.477250  0.500000               4.0\n",
       "4   877    56     5.0  0.00135  0.157305  0.841345               4.0"
      ]
     },
     "execution_count": 37,
     "metadata": {},
     "output_type": "execute_result"
    }
   ],
   "source": [
    "df.head()"
   ]
  },
  {
   "cell_type": "code",
   "execution_count": 38,
   "metadata": {},
   "outputs": [],
   "source": [
    "# df[[\"user\",\"item\",\"rating\",\"corrected_rating\"]].to_csv(\"ml100k_corrected_wang.csv\",index=False)"
   ]
  },
  {
   "cell_type": "code",
   "execution_count": 39,
   "metadata": {},
   "outputs": [],
   "source": [
    "from surprise import Dataset\n",
    "from surprise import SlopeOne, KNNBasic\n",
    "from surprise.model_selection import train_test_split\n",
    "from surprise.accuracy import rmse, mae\n",
    "from surprise.reader import Reader\n"
   ]
  },
  {
   "cell_type": "code",
   "execution_count": 40,
   "metadata": {},
   "outputs": [],
   "source": [
    "import numpy as np\n",
    "import pandas as pd"
   ]
  },
  {
   "cell_type": "code",
   "execution_count": 41,
   "metadata": {},
   "outputs": [],
   "source": [
    "def get_accuracy(algo, trainset, testset):\n",
    "    algo.fit(trainset)\n",
    "    predictions = algo.test(testset)\n",
    "    rmse_error = rmse(predictions)\n",
    "    mae_error = mae(predictions)\n",
    "    print(f\"For {algo} RMSE is {rmse_error} and MAE is {mae_error}\")\n",
    "    return algo, rmse_error, mae_error"
   ]
  },
  {
   "cell_type": "code",
   "execution_count": 42,
   "metadata": {},
   "outputs": [],
   "source": [
    "def run_algos(trainset,testset):\n",
    "    algorithms = [\n",
    "        SlopeOne(),\n",
    "        KNNBasic(k=60, sim_options={\"name\": \"pearson\", \"user_based\": True}),\n",
    "        KNNBasic(k=60, sim_options={\"name\": \"pearson\", \"user_based\": False}),\n",
    "    ]\n",
    "\n",
    "    results = []\n",
    "    for algo in algorithms:\n",
    "        results.append(get_accuracy(algo, trainset, testset))\n",
    "    return results"
   ]
  },
  {
   "cell_type": "code",
   "execution_count": 43,
   "metadata": {},
   "outputs": [],
   "source": [
    "# df = pd.read_csv(\"ml100k_corrected_wang.csv\")"
   ]
  },
  {
   "cell_type": "code",
   "execution_count": 44,
   "metadata": {},
   "outputs": [],
   "source": [
    "test_df = pd.read_csv(\"test.csv\")"
   ]
  },
  {
   "cell_type": "code",
   "execution_count": 45,
   "metadata": {},
   "outputs": [
    {
     "name": "stdout",
     "output_type": "stream",
     "text": [
      "Training set size:  80000\n",
      "Test set size:  20000\n"
     ]
    }
   ],
   "source": [
    "reader = Reader(rating_scale=(1, 5))\n",
    "data = Dataset.load_from_df(df[[\"user\", \"item\", \"rating\"]], reader)\n",
    "test_data = Dataset.load_from_df(test_df[[\"user\", \"item\", \"rating\"]], reader)\n",
    "trainset = data.build_full_trainset()\n",
    "testset = test_data.build_full_trainset().build_testset()\n",
    "print(\"Training set size: \", trainset.n_ratings)\n",
    "print(\"Test set size: \", len(testset))\n"
   ]
  },
  {
   "cell_type": "code",
   "execution_count": 46,
   "metadata": {},
   "outputs": [
    {
     "name": "stdout",
     "output_type": "stream",
     "text": [
      "RMSE: 0.9423\n",
      "MAE:  0.7414\n",
      "For <surprise.prediction_algorithms.slope_one.SlopeOne object at 0x000001A83FCB9DF0> RMSE is 0.9422541799329658 and MAE is 0.7413586954857572\n",
      "Computing the pearson similarity matrix...\n",
      "Done computing similarity matrix.\n",
      "RMSE: 1.0135\n",
      "MAE:  0.8027\n",
      "For <surprise.prediction_algorithms.knns.KNNBasic object at 0x000001A83FCB9FD0> RMSE is 1.0134516193372387 and MAE is 0.8026670964157997\n",
      "Computing the pearson similarity matrix...\n",
      "Done computing similarity matrix.\n",
      "RMSE: 1.0337\n",
      "MAE:  0.8261\n",
      "For <surprise.prediction_algorithms.knns.KNNBasic object at 0x000001A83FCB9E20> RMSE is 1.0337113290316722 and MAE is 0.826057756099029\n"
     ]
    }
   ],
   "source": [
    "results_base = run_algos(trainset,testset)"
   ]
  },
  {
   "cell_type": "code",
   "execution_count": 28,
   "metadata": {},
   "outputs": [],
   "source": [
    "results_dict = {\"algo\": [], \"rmse\": [], \"mae\": [],\"type\":[]}\n",
    "for algo_, rmse_, mae_ in results_base:\n",
    "    results_dict[\"algo\"].append(repr(algo_).split(\".\")[-1].split(\" \")[0])\n",
    "    results_dict[\"rmse\"].append(rmse_)\n",
    "    results_dict[\"mae\"].append(mae_)\n",
    "    results_dict[\"type\"].append(\"base\")"
   ]
  },
  {
   "cell_type": "code",
   "execution_count": 48,
   "metadata": {},
   "outputs": [
    {
     "name": "stdout",
     "output_type": "stream",
     "text": [
      "Training set size:  80000\n",
      "Test set size:  20000\n"
     ]
    }
   ],
   "source": [
    "data = Dataset.load_from_df(df[[\"user\", \"item\", \"corrected_rating\"]], reader)\n",
    "trainset = data.build_full_trainset()\n",
    "print(\"Training set size: \", trainset.n_ratings)\n",
    "print(\"Test set size: \", len(testset))"
   ]
  },
  {
   "cell_type": "code",
   "execution_count": 49,
   "metadata": {},
   "outputs": [
    {
     "name": "stdout",
     "output_type": "stream",
     "text": [
      "RMSE: 0.9759\n",
      "MAE:  0.7773\n",
      "For <surprise.prediction_algorithms.slope_one.SlopeOne object at 0x000001A83DC992E0> RMSE is 0.9758576070636537 and MAE is 0.7773165710152085\n",
      "Computing the pearson similarity matrix...\n",
      "Done computing similarity matrix.\n",
      "RMSE: 1.0339\n",
      "MAE:  0.8244\n",
      "For <surprise.prediction_algorithms.knns.KNNBasic object at 0x000001A83A37AA90> RMSE is 1.0338962521731319 and MAE is 0.82438617399556\n",
      "Computing the pearson similarity matrix...\n",
      "Done computing similarity matrix.\n",
      "RMSE: 1.0506\n",
      "MAE:  0.8390\n",
      "For <surprise.prediction_algorithms.knns.KNNBasic object at 0x000001A83B4415E0> RMSE is 1.0505762631952522 and MAE is 0.8390204207758583\n"
     ]
    }
   ],
   "source": [
    "results_estimated = run_algos(trainset,testset)"
   ]
  },
  {
   "cell_type": "code",
   "execution_count": 31,
   "metadata": {},
   "outputs": [],
   "source": [
    "for algo_, rmse_, mae_ in results_estimated:\n",
    "    results_dict[\"algo\"].append(repr(algo_).split(\".\")[-1].split(\" \")[0])\n",
    "    results_dict[\"rmse\"].append(rmse_)\n",
    "    results_dict[\"mae\"].append(mae_)\n",
    "    results_dict[\"type\"].append(\"estimated\")"
   ]
  },
  {
   "cell_type": "code",
   "execution_count": 32,
   "metadata": {},
   "outputs": [],
   "source": [
    "results_df = pd.DataFrame(results_dict)"
   ]
  },
  {
   "cell_type": "code",
   "execution_count": 33,
   "metadata": {},
   "outputs": [
    {
     "data": {
      "text/html": [
       "<div>\n",
       "<style scoped>\n",
       "    .dataframe tbody tr th:only-of-type {\n",
       "        vertical-align: middle;\n",
       "    }\n",
       "\n",
       "    .dataframe tbody tr th {\n",
       "        vertical-align: top;\n",
       "    }\n",
       "\n",
       "    .dataframe thead th {\n",
       "        text-align: right;\n",
       "    }\n",
       "</style>\n",
       "<table border=\"1\" class=\"dataframe\">\n",
       "  <thead>\n",
       "    <tr style=\"text-align: right;\">\n",
       "      <th></th>\n",
       "      <th>algo</th>\n",
       "      <th>rmse</th>\n",
       "      <th>mae</th>\n",
       "      <th>type</th>\n",
       "    </tr>\n",
       "  </thead>\n",
       "  <tbody>\n",
       "    <tr>\n",
       "      <th>0</th>\n",
       "      <td>SlopeOne</td>\n",
       "      <td>0.942254</td>\n",
       "      <td>0.741359</td>\n",
       "      <td>base</td>\n",
       "    </tr>\n",
       "    <tr>\n",
       "      <th>1</th>\n",
       "      <td>KNNBasic</td>\n",
       "      <td>1.013456</td>\n",
       "      <td>0.802670</td>\n",
       "      <td>base</td>\n",
       "    </tr>\n",
       "    <tr>\n",
       "      <th>2</th>\n",
       "      <td>KNNBasic</td>\n",
       "      <td>1.033711</td>\n",
       "      <td>0.826058</td>\n",
       "      <td>base</td>\n",
       "    </tr>\n",
       "    <tr>\n",
       "      <th>3</th>\n",
       "      <td>SlopeOne</td>\n",
       "      <td>0.382929</td>\n",
       "      <td>0.308100</td>\n",
       "      <td>estimated</td>\n",
       "    </tr>\n",
       "    <tr>\n",
       "      <th>4</th>\n",
       "      <td>KNNBasic</td>\n",
       "      <td>0.479708</td>\n",
       "      <td>0.372185</td>\n",
       "      <td>estimated</td>\n",
       "    </tr>\n",
       "    <tr>\n",
       "      <th>5</th>\n",
       "      <td>KNNBasic</td>\n",
       "      <td>0.472036</td>\n",
       "      <td>0.378978</td>\n",
       "      <td>estimated</td>\n",
       "    </tr>\n",
       "  </tbody>\n",
       "</table>\n",
       "</div>"
      ],
      "text/plain": [
       "       algo      rmse       mae       type\n",
       "0  SlopeOne  0.942254  0.741359       base\n",
       "1  KNNBasic  1.013456  0.802670       base\n",
       "2  KNNBasic  1.033711  0.826058       base\n",
       "3  SlopeOne  0.382929  0.308100  estimated\n",
       "4  KNNBasic  0.479708  0.372185  estimated\n",
       "5  KNNBasic  0.472036  0.378978  estimated"
      ]
     },
     "execution_count": 33,
     "metadata": {},
     "output_type": "execute_result"
    }
   ],
   "source": [
    "results_df"
   ]
  },
  {
   "cell_type": "code",
   "execution_count": 34,
   "metadata": {},
   "outputs": [],
   "source": [
    "results_df.to_csv(\"results_wang.csv\",index=False)"
   ]
  },
  {
   "cell_type": "code",
   "execution_count": null,
   "metadata": {},
   "outputs": [],
   "source": []
  }
 ],
 "metadata": {
  "kernelspec": {
   "display_name": "ctsd",
   "language": "python",
   "name": "python3"
  },
  "language_info": {
   "codemirror_mode": {
    "name": "ipython",
    "version": 3
   },
   "file_extension": ".py",
   "mimetype": "text/x-python",
   "name": "python",
   "nbconvert_exporter": "python",
   "pygments_lexer": "ipython3",
   "version": "3.9.16"
  },
  "orig_nbformat": 4
 },
 "nbformat": 4,
 "nbformat_minor": 2
}
